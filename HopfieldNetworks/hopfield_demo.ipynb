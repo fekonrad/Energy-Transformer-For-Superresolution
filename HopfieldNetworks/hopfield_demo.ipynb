{
 "cells": [
  {
   "cell_type": "markdown",
   "metadata": {},
   "source": [
    "# Hopfield Network Demo\n"
   ]
  },
  {
   "cell_type": "code",
   "execution_count": 4,
   "metadata": {},
   "outputs": [
    {
     "ename": "ModuleNotFoundError",
     "evalue": "No module named 'numpy'",
     "output_type": "error",
     "traceback": [
      "\u001b[1;31m---------------------------------------------------------------------------\u001b[0m",
      "\u001b[1;31mModuleNotFoundError\u001b[0m                       Traceback (most recent call last)",
      "Cell \u001b[1;32mIn[4], line 1\u001b[0m\n\u001b[1;32m----> 1\u001b[0m \u001b[38;5;28;01mimport\u001b[39;00m \u001b[38;5;21;01mnumpy\u001b[39;00m \u001b[38;5;28;01mas\u001b[39;00m \u001b[38;5;21;01mnp\u001b[39;00m\n\u001b[0;32m      2\u001b[0m \u001b[38;5;28;01mfrom\u001b[39;00m \u001b[38;5;21;01mitertools\u001b[39;00m \u001b[38;5;28;01mimport\u001b[39;00m product\n\u001b[0;32m      4\u001b[0m \u001b[38;5;28;01mdef\u001b[39;00m \u001b[38;5;21mgenerate_symmetric_matrix\u001b[39m(N):\n",
      "\u001b[1;31mModuleNotFoundError\u001b[0m: No module named 'numpy'"
     ]
    }
   ],
   "source": [
    "import numpy as np\n",
    "from itertools import product\n",
    "\n",
    "def generate_symmetric_matrix(N):\n",
    "    \"\"\"\n",
    "    Generate a random symmetric NxN matrix with values in {-1, +1}\n",
    "    \"\"\"\n",
    "    # Create random matrix with -1 and 1\n",
    "    T = np.random.choice([-1, 1], size=(N, N))\n",
    "    # Make it symmetric by averaging with its transpose\n",
    "    T = (T + T.T) / 2\n",
    "    # Set diagonal to 0 (standard for Hopfield networks)\n",
    "    np.fill_diagonal(T, 0)\n",
    "    return T\n",
    "\n",
    "def calculate_energy(T, sigma):\n",
    "    \"\"\"\n",
    "    Calculate the energy E = -σᵀTσ for a given state\n",
    "    \"\"\"\n",
    "    return -np.dot(sigma, np.dot(T, sigma))\n",
    "\n",
    "def find_local_minima(T):\n",
    "    \"\"\"\n",
    "    Find all local minima of the energy function for given coupling matrix T\n",
    "    \"\"\"\n",
    "    N = T.shape[0]\n",
    "    local_minima = []\n",
    "    energies = []\n",
    "    \n",
    "    # Generate all possible states {-1, +1}^N\n",
    "    all_states = list(product([-1, 1], repeat=N))\n",
    "    \n",
    "    for state in all_states:\n",
    "        sigma = np.array(state)\n",
    "        is_minimum = True\n",
    "        current_energy = calculate_energy(T, sigma)\n",
    "        \n",
    "        # Check all single flip neighbors\n",
    "        for i in range(N):\n",
    "            # Flip one bit\n",
    "            neighbor = sigma.copy()\n",
    "            neighbor[i] *= -1\n",
    "            \n",
    "            # If neighbor has lower energy, current state is not a local minimum\n",
    "            if calculate_energy(T, neighbor) < current_energy:\n",
    "                is_minimum = False\n",
    "                break\n",
    "        \n",
    "        if is_minimum:\n",
    "            local_minima.append(sigma)\n",
    "            energies.append(current_energy)\n",
    "    \n",
    "    return np.array(local_minima), np.array(energies)\n",
    "\n",
    "# Example usage\n",
    "N = 4  # Size of the matrix\n",
    "T = generate_symmetric_matrix(N)\n",
    "minima, energies = find_local_minima(T)\n",
    "\n",
    "print(\"Random symmetric matrix T:\")\n",
    "print(T)\n",
    "print(\"\\nLocal minima found:\")\n",
    "for i, (minimum, energy) in enumerate(zip(minima, energies)):\n",
    "    print(f\"Minimum {i+1}: σ = {minimum}, Energy = {energy:.2f}\")"
   ]
  }
 ],
 "metadata": {
  "kernelspec": {
   "display_name": "Python 3",
   "language": "python",
   "name": "python3"
  },
  "language_info": {
   "codemirror_mode": {
    "name": "ipython",
    "version": 3
   },
   "file_extension": ".py",
   "mimetype": "text/x-python",
   "name": "python",
   "nbconvert_exporter": "python",
   "pygments_lexer": "ipython3",
   "version": "3.9.13"
  }
 },
 "nbformat": 4,
 "nbformat_minor": 2
}
