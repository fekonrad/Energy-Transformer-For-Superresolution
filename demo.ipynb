{
  "nbformat": 4,
  "nbformat_minor": 0,
  "metadata": {
    "colab": {
      "provenance": [],
      "authorship_tag": "ABX9TyOggks1c9vzOEACKw5sr5CX",
      "include_colab_link": true
    },
    "kernelspec": {
      "name": "python3",
      "display_name": "Python 3"
    },
    "language_info": {
      "name": "python"
    }
  },
  "cells": [
    {
      "cell_type": "markdown",
      "metadata": {
        "id": "view-in-github",
        "colab_type": "text"
      },
      "source": [
        "<a href=\"https://colab.research.google.com/github/fekonrad/Energy-Transformer-For-Superresolution/blob/main/demo.ipynb\" target=\"_parent\"><img src=\"https://colab.research.google.com/assets/colab-badge.svg\" alt=\"Open In Colab\"/></a>"
      ]
    },
    {
      "cell_type": "markdown",
      "source": [
        "# Install necessary Libraries\n",
        "We use the following repositories:\n",
        "- Energy Transformer: https://github.com/Lemon-cmd/energy-transformer-torch\n",
        "- Wavelet Toolbox: https://github.com/v0lta/PyTorch-Wavelet-Toolbox"
      ],
      "metadata": {
        "id": "Fbdg4o6y56ac"
      }
    },
    {
      "cell_type": "code",
      "execution_count": null,
      "metadata": {
        "id": "EY7WlDa94xeX"
      },
      "outputs": [],
      "source": [
        "import torch\n"
      ]
    },
    {
      "cell_type": "code",
      "source": [
        "!git clone https://github.com/Lemon-cmd/energy-transformer-torch.git\n",
        "!pip install ptwt"
      ],
      "metadata": {
        "colab": {
          "base_uri": "https://localhost:8080/"
        },
        "id": "e3GVHGU86drF",
        "outputId": "6edd36c2-72d0-4f73-925c-c7238ab9186e"
      },
      "execution_count": 3,
      "outputs": [
        {
          "output_type": "stream",
          "name": "stdout",
          "text": [
            "Cloning into 'energy-transformer-torch'...\n",
            "remote: Enumerating objects: 168, done.\u001b[K\n",
            "remote: Counting objects: 100% (43/43), done.\u001b[K\n",
            "remote: Compressing objects: 100% (12/12), done.\u001b[K\n",
            "remote: Total 168 (delta 35), reused 35 (delta 31), pack-reused 125 (from 1)\u001b[K\n",
            "Receiving objects: 100% (168/168), 22.74 MiB | 25.25 MiB/s, done.\n",
            "Resolving deltas: 100% (71/71), done.\n",
            "Collecting ptwt\n",
            "  Downloading ptwt-0.1.9-py3-none-any.whl.metadata (9.3 kB)\n",
            "Collecting PyWavelets (from ptwt)\n",
            "  Downloading pywavelets-1.7.0-cp310-cp310-manylinux_2_17_x86_64.manylinux2014_x86_64.whl.metadata (9.0 kB)\n",
            "Requirement already satisfied: torch in /usr/local/lib/python3.10/dist-packages (from ptwt) (2.5.0+cu121)\n",
            "Requirement already satisfied: numpy in /usr/local/lib/python3.10/dist-packages (from ptwt) (1.26.4)\n",
            "Requirement already satisfied: filelock in /usr/local/lib/python3.10/dist-packages (from torch->ptwt) (3.16.1)\n",
            "Requirement already satisfied: typing-extensions>=4.8.0 in /usr/local/lib/python3.10/dist-packages (from torch->ptwt) (4.12.2)\n",
            "Requirement already satisfied: networkx in /usr/local/lib/python3.10/dist-packages (from torch->ptwt) (3.4.2)\n",
            "Requirement already satisfied: jinja2 in /usr/local/lib/python3.10/dist-packages (from torch->ptwt) (3.1.4)\n",
            "Requirement already satisfied: fsspec in /usr/local/lib/python3.10/dist-packages (from torch->ptwt) (2024.10.0)\n",
            "Requirement already satisfied: sympy==1.13.1 in /usr/local/lib/python3.10/dist-packages (from torch->ptwt) (1.13.1)\n",
            "Requirement already satisfied: mpmath<1.4,>=1.1.0 in /usr/local/lib/python3.10/dist-packages (from sympy==1.13.1->torch->ptwt) (1.3.0)\n",
            "Requirement already satisfied: MarkupSafe>=2.0 in /usr/local/lib/python3.10/dist-packages (from jinja2->torch->ptwt) (3.0.2)\n",
            "Downloading ptwt-0.1.9-py3-none-any.whl (63 kB)\n",
            "\u001b[2K   \u001b[90m━━━━━━━━━━━━━━━━━━━━━━━━━━━━━━━━━━━━━━━━\u001b[0m \u001b[32m63.6/63.6 kB\u001b[0m \u001b[31m2.2 MB/s\u001b[0m eta \u001b[36m0:00:00\u001b[0m\n",
            "\u001b[?25hDownloading pywavelets-1.7.0-cp310-cp310-manylinux_2_17_x86_64.manylinux2014_x86_64.whl (4.5 MB)\n",
            "\u001b[2K   \u001b[90m━━━━━━━━━━━━━━━━━━━━━━━━━━━━━━━━━━━━━━━━\u001b[0m \u001b[32m4.5/4.5 MB\u001b[0m \u001b[31m30.0 MB/s\u001b[0m eta \u001b[36m0:00:00\u001b[0m\n",
            "\u001b[?25hInstalling collected packages: PyWavelets, ptwt\n",
            "Successfully installed PyWavelets-1.7.0 ptwt-0.1.9\n"
          ]
        }
      ]
    },
    {
      "cell_type": "markdown",
      "source": [
        "# Data"
      ],
      "metadata": {
        "id": "4iHUktnh7qK3"
      }
    },
    {
      "cell_type": "code",
      "source": [
        "..."
      ],
      "metadata": {
        "id": "P8l_Hz1Z7rJJ"
      },
      "execution_count": null,
      "outputs": []
    },
    {
      "cell_type": "markdown",
      "source": [
        "# Upscaling an Image using Wavelets"
      ],
      "metadata": {
        "id": "UBrRZIeX7hoY"
      }
    },
    {
      "cell_type": "code",
      "source": [
        "def upscale(img: torch.Tensor, shape):\n",
        "  \"\"\"\n",
        "  Method to upscale an image to a given shape.\n",
        "  Takes the Wavelet expansion of 'img' and creates a wavelet expansion for an image of shape 'shape'.\n",
        "  Requires shape[0] to be a power of 2 times img.shape[0]; same for shape[1].\n",
        "  Returns the upscaled image as torch.tensor of shape 'shape'\n",
        "  \"\"\"\n",
        "  ...\n",
        "\n",
        ""
      ],
      "metadata": {
        "id": "odxKysOr7G2V"
      },
      "execution_count": null,
      "outputs": []
    },
    {
      "cell_type": "markdown",
      "source": [
        "# The Model"
      ],
      "metadata": {
        "id": "5ioWS_k57kko"
      }
    },
    {
      "cell_type": "code",
      "source": [
        "..."
      ],
      "metadata": {
        "id": "0x0TKjFR7gK8"
      },
      "execution_count": null,
      "outputs": []
    },
    {
      "cell_type": "markdown",
      "source": [
        "# Training"
      ],
      "metadata": {
        "id": "lrEVRcIR7okt"
      }
    },
    {
      "cell_type": "code",
      "source": [],
      "metadata": {
        "id": "li_7ARyR7sVD"
      },
      "execution_count": null,
      "outputs": []
    }
  ]
}